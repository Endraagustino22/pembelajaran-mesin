{
 "cells": [
  {
   "cell_type": "markdown",
   "metadata": {},
   "source": [
    "# import library"
   ]
  },
  {
   "cell_type": "code",
   "execution_count": 144,
   "metadata": {},
   "outputs": [],
   "source": [
    "import numpy as np\n",
    "import pandas as pd\n",
    "import matplotlib.pyplot as plt\n",
    "import seaborn as sns\n",
    "import sklearn.datasets\n",
    "from sklearn.model_selection import train_test_split\n",
    "from xgboost import XGBRegressor \n",
    "from sklearn.tree import DecisionTreeRegressor\n",
    "from sklearn.metrics import mean_absolute_error, mean_squared_error, r2_score\n",
    "from sklearn import metrics"
   ]
  },
  {
   "cell_type": "markdown",
   "metadata": {},
   "source": [
    "# import dataset"
   ]
  },
  {
   "cell_type": "code",
   "execution_count": 145,
   "metadata": {},
   "outputs": [],
   "source": [
    "df = pd.read_excel('hargaRumahJaksel.xlsx', header=None)"
   ]
  },
  {
   "cell_type": "markdown",
   "metadata": {},
   "source": [
    "# pre proccessing data"
   ]
  },
  {
   "cell_type": "code",
   "execution_count": 146,
   "metadata": {},
   "outputs": [
    {
     "data": {
      "text/html": [
       "<div>\n",
       "<style scoped>\n",
       "    .dataframe tbody tr th:only-of-type {\n",
       "        vertical-align: middle;\n",
       "    }\n",
       "\n",
       "    .dataframe tbody tr th {\n",
       "        vertical-align: top;\n",
       "    }\n",
       "\n",
       "    .dataframe thead th {\n",
       "        text-align: right;\n",
       "    }\n",
       "</style>\n",
       "<table border=\"1\" class=\"dataframe\">\n",
       "  <thead>\n",
       "    <tr style=\"text-align: right;\">\n",
       "      <th></th>\n",
       "      <th>0</th>\n",
       "      <th>1</th>\n",
       "      <th>2</th>\n",
       "      <th>3</th>\n",
       "      <th>4</th>\n",
       "      <th>5</th>\n",
       "      <th>6</th>\n",
       "    </tr>\n",
       "  </thead>\n",
       "  <tbody>\n",
       "    <tr>\n",
       "      <th>0</th>\n",
       "      <td>NaN</td>\n",
       "      <td>NaN</td>\n",
       "      <td>NaN</td>\n",
       "      <td>NaN</td>\n",
       "      <td>NaN</td>\n",
       "      <td>NaN</td>\n",
       "      <td>NaN</td>\n",
       "    </tr>\n",
       "    <tr>\n",
       "      <th>1</th>\n",
       "      <td>HARGA</td>\n",
       "      <td>LT</td>\n",
       "      <td>LB</td>\n",
       "      <td>JKT</td>\n",
       "      <td>JKM</td>\n",
       "      <td>GRS</td>\n",
       "      <td>KOTA</td>\n",
       "    </tr>\n",
       "    <tr>\n",
       "      <th>2</th>\n",
       "      <td>28000000000</td>\n",
       "      <td>1100</td>\n",
       "      <td>700</td>\n",
       "      <td>5</td>\n",
       "      <td>6</td>\n",
       "      <td>ADA</td>\n",
       "      <td>JAKSEL</td>\n",
       "    </tr>\n",
       "    <tr>\n",
       "      <th>3</th>\n",
       "      <td>19000000000</td>\n",
       "      <td>824</td>\n",
       "      <td>800</td>\n",
       "      <td>4</td>\n",
       "      <td>4</td>\n",
       "      <td>ADA</td>\n",
       "      <td>JAKSEL</td>\n",
       "    </tr>\n",
       "    <tr>\n",
       "      <th>4</th>\n",
       "      <td>4700000000</td>\n",
       "      <td>500</td>\n",
       "      <td>400</td>\n",
       "      <td>4</td>\n",
       "      <td>3</td>\n",
       "      <td>ADA</td>\n",
       "      <td>JAKSEL</td>\n",
       "    </tr>\n",
       "  </tbody>\n",
       "</table>\n",
       "</div>"
      ],
      "text/plain": [
       "             0     1    2    3    4    5       6\n",
       "0          NaN   NaN  NaN  NaN  NaN  NaN     NaN\n",
       "1        HARGA    LT   LB  JKT  JKM  GRS    KOTA\n",
       "2  28000000000  1100  700    5    6  ADA  JAKSEL\n",
       "3  19000000000   824  800    4    4  ADA  JAKSEL\n",
       "4   4700000000   500  400    4    3  ADA  JAKSEL"
      ]
     },
     "execution_count": 146,
     "metadata": {},
     "output_type": "execute_result"
    }
   ],
   "source": [
    "#menampilkan 5 baris awal tabel\n",
    "df.head()"
   ]
  },
  {
   "cell_type": "code",
   "execution_count": 147,
   "metadata": {},
   "outputs": [
    {
     "data": {
      "text/html": [
       "<div>\n",
       "<style scoped>\n",
       "    .dataframe tbody tr th:only-of-type {\n",
       "        vertical-align: middle;\n",
       "    }\n",
       "\n",
       "    .dataframe tbody tr th {\n",
       "        vertical-align: top;\n",
       "    }\n",
       "\n",
       "    .dataframe thead th {\n",
       "        text-align: right;\n",
       "    }\n",
       "</style>\n",
       "<table border=\"1\" class=\"dataframe\">\n",
       "  <thead>\n",
       "    <tr style=\"text-align: right;\">\n",
       "      <th></th>\n",
       "      <th>HARGA</th>\n",
       "      <th>LT</th>\n",
       "      <th>LB</th>\n",
       "      <th>JKT</th>\n",
       "      <th>JKM</th>\n",
       "      <th>GRS</th>\n",
       "      <th>KOTA</th>\n",
       "    </tr>\n",
       "  </thead>\n",
       "  <tbody>\n",
       "    <tr>\n",
       "      <th>0</th>\n",
       "      <td>NaN</td>\n",
       "      <td>NaN</td>\n",
       "      <td>NaN</td>\n",
       "      <td>NaN</td>\n",
       "      <td>NaN</td>\n",
       "      <td>NaN</td>\n",
       "      <td>NaN</td>\n",
       "    </tr>\n",
       "    <tr>\n",
       "      <th>1</th>\n",
       "      <td>HARGA</td>\n",
       "      <td>LT</td>\n",
       "      <td>LB</td>\n",
       "      <td>JKT</td>\n",
       "      <td>JKM</td>\n",
       "      <td>GRS</td>\n",
       "      <td>KOTA</td>\n",
       "    </tr>\n",
       "    <tr>\n",
       "      <th>2</th>\n",
       "      <td>28000000000</td>\n",
       "      <td>1100</td>\n",
       "      <td>700</td>\n",
       "      <td>5</td>\n",
       "      <td>6</td>\n",
       "      <td>ADA</td>\n",
       "      <td>JAKSEL</td>\n",
       "    </tr>\n",
       "    <tr>\n",
       "      <th>3</th>\n",
       "      <td>19000000000</td>\n",
       "      <td>824</td>\n",
       "      <td>800</td>\n",
       "      <td>4</td>\n",
       "      <td>4</td>\n",
       "      <td>ADA</td>\n",
       "      <td>JAKSEL</td>\n",
       "    </tr>\n",
       "    <tr>\n",
       "      <th>4</th>\n",
       "      <td>4700000000</td>\n",
       "      <td>500</td>\n",
       "      <td>400</td>\n",
       "      <td>4</td>\n",
       "      <td>3</td>\n",
       "      <td>ADA</td>\n",
       "      <td>JAKSEL</td>\n",
       "    </tr>\n",
       "  </tbody>\n",
       "</table>\n",
       "</div>"
      ],
      "text/plain": [
       "         HARGA    LT   LB  JKT  JKM  GRS    KOTA\n",
       "0          NaN   NaN  NaN  NaN  NaN  NaN     NaN\n",
       "1        HARGA    LT   LB  JKT  JKM  GRS    KOTA\n",
       "2  28000000000  1100  700    5    6  ADA  JAKSEL\n",
       "3  19000000000   824  800    4    4  ADA  JAKSEL\n",
       "4   4700000000   500  400    4    3  ADA  JAKSEL"
      ]
     },
     "execution_count": 147,
     "metadata": {},
     "output_type": "execute_result"
    }
   ],
   "source": [
    "#membuat nama kolom\n",
    "df.columns = ['HARGA', 'LT', 'LB', 'JKT', 'JKM', 'GRS', 'KOTA']\n",
    "df.head()"
   ]
  },
  {
   "cell_type": "code",
   "execution_count": 148,
   "metadata": {},
   "outputs": [
    {
     "data": {
      "text/html": [
       "<div>\n",
       "<style scoped>\n",
       "    .dataframe tbody tr th:only-of-type {\n",
       "        vertical-align: middle;\n",
       "    }\n",
       "\n",
       "    .dataframe tbody tr th {\n",
       "        vertical-align: top;\n",
       "    }\n",
       "\n",
       "    .dataframe thead th {\n",
       "        text-align: right;\n",
       "    }\n",
       "</style>\n",
       "<table border=\"1\" class=\"dataframe\">\n",
       "  <thead>\n",
       "    <tr style=\"text-align: right;\">\n",
       "      <th></th>\n",
       "      <th>HARGA</th>\n",
       "      <th>LT</th>\n",
       "      <th>LB</th>\n",
       "      <th>JKT</th>\n",
       "      <th>JKM</th>\n",
       "      <th>GRS</th>\n",
       "      <th>KOTA</th>\n",
       "    </tr>\n",
       "  </thead>\n",
       "  <tbody>\n",
       "    <tr>\n",
       "      <th>2</th>\n",
       "      <td>28000000000</td>\n",
       "      <td>1100</td>\n",
       "      <td>700</td>\n",
       "      <td>5</td>\n",
       "      <td>6</td>\n",
       "      <td>ADA</td>\n",
       "      <td>JAKSEL</td>\n",
       "    </tr>\n",
       "    <tr>\n",
       "      <th>3</th>\n",
       "      <td>19000000000</td>\n",
       "      <td>824</td>\n",
       "      <td>800</td>\n",
       "      <td>4</td>\n",
       "      <td>4</td>\n",
       "      <td>ADA</td>\n",
       "      <td>JAKSEL</td>\n",
       "    </tr>\n",
       "    <tr>\n",
       "      <th>4</th>\n",
       "      <td>4700000000</td>\n",
       "      <td>500</td>\n",
       "      <td>400</td>\n",
       "      <td>4</td>\n",
       "      <td>3</td>\n",
       "      <td>ADA</td>\n",
       "      <td>JAKSEL</td>\n",
       "    </tr>\n",
       "    <tr>\n",
       "      <th>5</th>\n",
       "      <td>4900000000</td>\n",
       "      <td>251</td>\n",
       "      <td>300</td>\n",
       "      <td>5</td>\n",
       "      <td>4</td>\n",
       "      <td>ADA</td>\n",
       "      <td>JAKSEL</td>\n",
       "    </tr>\n",
       "    <tr>\n",
       "      <th>6</th>\n",
       "      <td>28000000000</td>\n",
       "      <td>1340</td>\n",
       "      <td>575</td>\n",
       "      <td>4</td>\n",
       "      <td>5</td>\n",
       "      <td>ADA</td>\n",
       "      <td>JAKSEL</td>\n",
       "    </tr>\n",
       "  </tbody>\n",
       "</table>\n",
       "</div>"
      ],
      "text/plain": [
       "         HARGA    LT   LB JKT JKM  GRS    KOTA\n",
       "2  28000000000  1100  700   5   6  ADA  JAKSEL\n",
       "3  19000000000   824  800   4   4  ADA  JAKSEL\n",
       "4   4700000000   500  400   4   3  ADA  JAKSEL\n",
       "5   4900000000   251  300   5   4  ADA  JAKSEL\n",
       "6  28000000000  1340  575   4   5  ADA  JAKSEL"
      ]
     },
     "execution_count": 148,
     "metadata": {},
     "output_type": "execute_result"
    }
   ],
   "source": [
    "#hapus baris 1 dan 2 karena tidak bernilai\n",
    "df = df.drop([0,1])\n",
    "df.head()"
   ]
  },
  {
   "cell_type": "code",
   "execution_count": 149,
   "metadata": {},
   "outputs": [
    {
     "data": {
      "text/html": [
       "<div>\n",
       "<style scoped>\n",
       "    .dataframe tbody tr th:only-of-type {\n",
       "        vertical-align: middle;\n",
       "    }\n",
       "\n",
       "    .dataframe tbody tr th {\n",
       "        vertical-align: top;\n",
       "    }\n",
       "\n",
       "    .dataframe thead th {\n",
       "        text-align: right;\n",
       "    }\n",
       "</style>\n",
       "<table border=\"1\" class=\"dataframe\">\n",
       "  <thead>\n",
       "    <tr style=\"text-align: right;\">\n",
       "      <th></th>\n",
       "      <th>HARGA</th>\n",
       "      <th>LT</th>\n",
       "      <th>LB</th>\n",
       "      <th>JKT</th>\n",
       "      <th>JKM</th>\n",
       "      <th>GRS</th>\n",
       "      <th>KOTA</th>\n",
       "    </tr>\n",
       "  </thead>\n",
       "  <tbody>\n",
       "    <tr>\n",
       "      <th>2</th>\n",
       "      <td>28.0</td>\n",
       "      <td>1100</td>\n",
       "      <td>700</td>\n",
       "      <td>5</td>\n",
       "      <td>6</td>\n",
       "      <td>ADA</td>\n",
       "      <td>JAKSEL</td>\n",
       "    </tr>\n",
       "    <tr>\n",
       "      <th>3</th>\n",
       "      <td>19.0</td>\n",
       "      <td>824</td>\n",
       "      <td>800</td>\n",
       "      <td>4</td>\n",
       "      <td>4</td>\n",
       "      <td>ADA</td>\n",
       "      <td>JAKSEL</td>\n",
       "    </tr>\n",
       "    <tr>\n",
       "      <th>4</th>\n",
       "      <td>4.7</td>\n",
       "      <td>500</td>\n",
       "      <td>400</td>\n",
       "      <td>4</td>\n",
       "      <td>3</td>\n",
       "      <td>ADA</td>\n",
       "      <td>JAKSEL</td>\n",
       "    </tr>\n",
       "    <tr>\n",
       "      <th>5</th>\n",
       "      <td>4.9</td>\n",
       "      <td>251</td>\n",
       "      <td>300</td>\n",
       "      <td>5</td>\n",
       "      <td>4</td>\n",
       "      <td>ADA</td>\n",
       "      <td>JAKSEL</td>\n",
       "    </tr>\n",
       "    <tr>\n",
       "      <th>6</th>\n",
       "      <td>28.0</td>\n",
       "      <td>1340</td>\n",
       "      <td>575</td>\n",
       "      <td>4</td>\n",
       "      <td>5</td>\n",
       "      <td>ADA</td>\n",
       "      <td>JAKSEL</td>\n",
       "    </tr>\n",
       "  </tbody>\n",
       "</table>\n",
       "</div>"
      ],
      "text/plain": [
       "  HARGA    LT   LB JKT JKM  GRS    KOTA\n",
       "2  28.0  1100  700   5   6  ADA  JAKSEL\n",
       "3  19.0   824  800   4   4  ADA  JAKSEL\n",
       "4   4.7   500  400   4   3  ADA  JAKSEL\n",
       "5   4.9   251  300   5   4  ADA  JAKSEL\n",
       "6  28.0  1340  575   4   5  ADA  JAKSEL"
      ]
     },
     "execution_count": 149,
     "metadata": {},
     "output_type": "execute_result"
    }
   ],
   "source": [
    "#menyederhanakan harga rumah\n",
    "df[\"HARGA\"] = df[\"HARGA\"] / 1000000000\n",
    "df.head()"
   ]
  },
  {
   "cell_type": "code",
   "execution_count": 150,
   "metadata": {},
   "outputs": [
    {
     "data": {
      "text/plain": [
       "HARGA    0\n",
       "LT       0\n",
       "LB       0\n",
       "JKT      0\n",
       "JKM      0\n",
       "GRS      0\n",
       "KOTA     0\n",
       "dtype: int64"
      ]
     },
     "execution_count": 150,
     "metadata": {},
     "output_type": "execute_result"
    }
   ],
   "source": [
    "#mengecek apakah ada missing data\n",
    "df.isnull().sum()"
   ]
  },
  {
   "cell_type": "code",
   "execution_count": 151,
   "metadata": {},
   "outputs": [
    {
     "name": "stderr",
     "output_type": "stream",
     "text": [
      "C:\\Users\\ASUS\\AppData\\Local\\Temp\\ipykernel_13756\\3378427142.py:2: FutureWarning: Downcasting behavior in `replace` is deprecated and will be removed in a future version. To retain the old behavior, explicitly call `result.infer_objects(copy=False)`. To opt-in to the future behavior, set `pd.set_option('future.no_silent_downcasting', True)`\n",
      "  df[\"GRS\"] = df[\"GRS\"].replace({\"ADA\" : 1, \"TIDAK ADA\" : 0})\n"
     ]
    }
   ],
   "source": [
    "#mengubah attribute garasi yang semula bernilai \"ADA\" menjadi 1, dan \"TIDAK ADA\" menjadi 0\n",
    "df[\"GRS\"] = df[\"GRS\"].replace({\"ADA\" : 1, \"TIDAK ADA\" : 0})"
   ]
  },
  {
   "cell_type": "code",
   "execution_count": 152,
   "metadata": {},
   "outputs": [
    {
     "name": "stdout",
     "output_type": "stream",
     "text": [
      "HARGA    float64\n",
      "LT         int64\n",
      "LB         int64\n",
      "JKT        int64\n",
      "JKM        int64\n",
      "GRS        int64\n",
      "KOTA      object\n",
      "dtype: object\n"
     ]
    }
   ],
   "source": [
    "#mengubah tipe data menjadi numeric yang semulanya bertipe data objek\n",
    "kolom_numerik = ['HARGA', 'LT', 'LB', 'JKT', 'JKM']\n",
    "df[kolom_numerik] = df[kolom_numerik].apply(pd.to_numeric, errors='coerce')\n",
    "\n",
    "\n",
    "print(df.dtypes)"
   ]
  },
  {
   "cell_type": "code",
   "execution_count": 153,
   "metadata": {},
   "outputs": [
    {
     "data": {
      "text/html": [
       "<div>\n",
       "<style scoped>\n",
       "    .dataframe tbody tr th:only-of-type {\n",
       "        vertical-align: middle;\n",
       "    }\n",
       "\n",
       "    .dataframe tbody tr th {\n",
       "        vertical-align: top;\n",
       "    }\n",
       "\n",
       "    .dataframe thead th {\n",
       "        text-align: right;\n",
       "    }\n",
       "</style>\n",
       "<table border=\"1\" class=\"dataframe\">\n",
       "  <thead>\n",
       "    <tr style=\"text-align: right;\">\n",
       "      <th></th>\n",
       "      <th>HARGA</th>\n",
       "      <th>LT</th>\n",
       "      <th>LB</th>\n",
       "      <th>JKT</th>\n",
       "      <th>JKM</th>\n",
       "      <th>GRS</th>\n",
       "    </tr>\n",
       "  </thead>\n",
       "  <tbody>\n",
       "    <tr>\n",
       "      <th>2</th>\n",
       "      <td>28.0</td>\n",
       "      <td>1100</td>\n",
       "      <td>700</td>\n",
       "      <td>5</td>\n",
       "      <td>6</td>\n",
       "      <td>1</td>\n",
       "    </tr>\n",
       "    <tr>\n",
       "      <th>3</th>\n",
       "      <td>19.0</td>\n",
       "      <td>824</td>\n",
       "      <td>800</td>\n",
       "      <td>4</td>\n",
       "      <td>4</td>\n",
       "      <td>1</td>\n",
       "    </tr>\n",
       "    <tr>\n",
       "      <th>4</th>\n",
       "      <td>4.7</td>\n",
       "      <td>500</td>\n",
       "      <td>400</td>\n",
       "      <td>4</td>\n",
       "      <td>3</td>\n",
       "      <td>1</td>\n",
       "    </tr>\n",
       "    <tr>\n",
       "      <th>5</th>\n",
       "      <td>4.9</td>\n",
       "      <td>251</td>\n",
       "      <td>300</td>\n",
       "      <td>5</td>\n",
       "      <td>4</td>\n",
       "      <td>1</td>\n",
       "    </tr>\n",
       "    <tr>\n",
       "      <th>6</th>\n",
       "      <td>28.0</td>\n",
       "      <td>1340</td>\n",
       "      <td>575</td>\n",
       "      <td>4</td>\n",
       "      <td>5</td>\n",
       "      <td>1</td>\n",
       "    </tr>\n",
       "  </tbody>\n",
       "</table>\n",
       "</div>"
      ],
      "text/plain": [
       "   HARGA    LT   LB  JKT  JKM  GRS\n",
       "2   28.0  1100  700    5    6    1\n",
       "3   19.0   824  800    4    4    1\n",
       "4    4.7   500  400    4    3    1\n",
       "5    4.9   251  300    5    4    1\n",
       "6   28.0  1340  575    4    5    1"
      ]
     },
     "execution_count": 153,
     "metadata": {},
     "output_type": "execute_result"
    }
   ],
   "source": [
    "# menghilangkan feature yang tidak relevan / tidak penting\n",
    "\n",
    "#hapus kolom jaksel karena semua nilainya sama\n",
    "df = df.drop(columns=[\"KOTA\"])\n",
    "df.head()"
   ]
  },
  {
   "cell_type": "markdown",
   "metadata": {},
   "source": [
    "### penjelasan data"
   ]
  },
  {
   "cell_type": "code",
   "execution_count": 154,
   "metadata": {},
   "outputs": [
    {
     "data": {
      "text/plain": [
       "(1001, 6)"
      ]
     },
     "execution_count": 154,
     "metadata": {},
     "output_type": "execute_result"
    }
   ],
   "source": [
    "# menampilkan jumlah baris dan kolom\n",
    "df.shape"
   ]
  },
  {
   "cell_type": "code",
   "execution_count": 155,
   "metadata": {},
   "outputs": [
    {
     "data": {
      "text/html": [
       "<div>\n",
       "<style scoped>\n",
       "    .dataframe tbody tr th:only-of-type {\n",
       "        vertical-align: middle;\n",
       "    }\n",
       "\n",
       "    .dataframe tbody tr th {\n",
       "        vertical-align: top;\n",
       "    }\n",
       "\n",
       "    .dataframe thead th {\n",
       "        text-align: right;\n",
       "    }\n",
       "</style>\n",
       "<table border=\"1\" class=\"dataframe\">\n",
       "  <thead>\n",
       "    <tr style=\"text-align: right;\">\n",
       "      <th></th>\n",
       "      <th>HARGA</th>\n",
       "      <th>LT</th>\n",
       "      <th>LB</th>\n",
       "      <th>JKT</th>\n",
       "      <th>JKM</th>\n",
       "      <th>GRS</th>\n",
       "    </tr>\n",
       "  </thead>\n",
       "  <tbody>\n",
       "    <tr>\n",
       "      <th>count</th>\n",
       "      <td>1001.000000</td>\n",
       "      <td>1001.000000</td>\n",
       "      <td>1001.000000</td>\n",
       "      <td>1001.000000</td>\n",
       "      <td>1001.000000</td>\n",
       "      <td>1001.000000</td>\n",
       "    </tr>\n",
       "    <tr>\n",
       "      <th>mean</th>\n",
       "      <td>17.474719</td>\n",
       "      <td>530.504496</td>\n",
       "      <td>487.275724</td>\n",
       "      <td>4.457542</td>\n",
       "      <td>3.940060</td>\n",
       "      <td>0.778222</td>\n",
       "    </tr>\n",
       "    <tr>\n",
       "      <th>std</th>\n",
       "      <td>20.795482</td>\n",
       "      <td>531.069773</td>\n",
       "      <td>452.872262</td>\n",
       "      <td>2.004606</td>\n",
       "      <td>1.903261</td>\n",
       "      <td>0.415650</td>\n",
       "    </tr>\n",
       "    <tr>\n",
       "      <th>min</th>\n",
       "      <td>0.430000</td>\n",
       "      <td>22.000000</td>\n",
       "      <td>38.000000</td>\n",
       "      <td>1.000000</td>\n",
       "      <td>1.000000</td>\n",
       "      <td>0.000000</td>\n",
       "    </tr>\n",
       "    <tr>\n",
       "      <th>25%</th>\n",
       "      <td>6.750000</td>\n",
       "      <td>220.000000</td>\n",
       "      <td>300.000000</td>\n",
       "      <td>4.000000</td>\n",
       "      <td>3.000000</td>\n",
       "      <td>1.000000</td>\n",
       "    </tr>\n",
       "    <tr>\n",
       "      <th>50%</th>\n",
       "      <td>13.500000</td>\n",
       "      <td>400.000000</td>\n",
       "      <td>411.000000</td>\n",
       "      <td>4.000000</td>\n",
       "      <td>4.000000</td>\n",
       "      <td>1.000000</td>\n",
       "    </tr>\n",
       "    <tr>\n",
       "      <th>75%</th>\n",
       "      <td>20.000000</td>\n",
       "      <td>677.000000</td>\n",
       "      <td>600.000000</td>\n",
       "      <td>5.000000</td>\n",
       "      <td>4.000000</td>\n",
       "      <td>1.000000</td>\n",
       "    </tr>\n",
       "    <tr>\n",
       "      <th>max</th>\n",
       "      <td>250.000000</td>\n",
       "      <td>6790.000000</td>\n",
       "      <td>10000.000000</td>\n",
       "      <td>27.000000</td>\n",
       "      <td>27.000000</td>\n",
       "      <td>1.000000</td>\n",
       "    </tr>\n",
       "  </tbody>\n",
       "</table>\n",
       "</div>"
      ],
      "text/plain": [
       "             HARGA           LT            LB          JKT          JKM  \\\n",
       "count  1001.000000  1001.000000   1001.000000  1001.000000  1001.000000   \n",
       "mean     17.474719   530.504496    487.275724     4.457542     3.940060   \n",
       "std      20.795482   531.069773    452.872262     2.004606     1.903261   \n",
       "min       0.430000    22.000000     38.000000     1.000000     1.000000   \n",
       "25%       6.750000   220.000000    300.000000     4.000000     3.000000   \n",
       "50%      13.500000   400.000000    411.000000     4.000000     4.000000   \n",
       "75%      20.000000   677.000000    600.000000     5.000000     4.000000   \n",
       "max     250.000000  6790.000000  10000.000000    27.000000    27.000000   \n",
       "\n",
       "               GRS  \n",
       "count  1001.000000  \n",
       "mean      0.778222  \n",
       "std       0.415650  \n",
       "min       0.000000  \n",
       "25%       1.000000  \n",
       "50%       1.000000  \n",
       "75%       1.000000  \n",
       "max       1.000000  "
      ]
     },
     "execution_count": 155,
     "metadata": {},
     "output_type": "execute_result"
    }
   ],
   "source": [
    "#rangkuman statistik deskrptif dari dataframe\n",
    "df.describe()"
   ]
  },
  {
   "cell_type": "code",
   "execution_count": 156,
   "metadata": {},
   "outputs": [
    {
     "data": {
      "text/plain": [
       "<Axes: >"
      ]
     },
     "execution_count": 156,
     "metadata": {},
     "output_type": "execute_result"
    },
    {
     "data": {
      "image/png": "[encoded data removed]",
      "text/plain": [
       "<Figure size 500x500 with 2 Axes>"
      ]
     },
     "metadata": {},
     "output_type": "display_data"
    }
   ],
   "source": [
    "#memahami korelasi antar feature data set menggunakan heatmap\n",
    "\n",
    "correlation = df.corr()\n",
    "plt.figure(figsize=(5,5))\n",
    "sns.heatmap(correlation, cbar=True, square=True, fmt='.1f', annot=True, annot_kws={'size':8}, cmap='Blues')"
   ]
  },
  {
   "cell_type": "markdown",
   "metadata": {},
   "source": [
    "# split data"
   ]
  },
  {
   "cell_type": "code",
   "execution_count": 157,
   "metadata": {},
   "outputs": [
    {
     "name": "stdout",
     "output_type": "stream",
     "text": [
      "        LT   LB  JKT  JKM  GRS\n",
      "2     1100  700    5    6    1\n",
      "3      824  800    4    4    1\n",
      "4      500  400    4    3    1\n",
      "5      251  300    5    4    1\n",
      "6     1340  575    4    5    1\n",
      "...    ...  ...  ...  ...  ...\n",
      "998    488  550    6    5    1\n",
      "999    209  270    4    4    1\n",
      "1000   692  400    4    3    0\n",
      "1001   102  140    4    3    0\n",
      "1002    63  110    3    3    0\n",
      "\n",
      "[1001 rows x 5 columns]\n",
      "2       28.00\n",
      "3       19.00\n",
      "4        4.70\n",
      "5        4.90\n",
      "6       28.00\n",
      "        ...  \n",
      "998     16.00\n",
      "999      4.50\n",
      "1000    29.00\n",
      "1001     1.70\n",
      "1002     1.25\n",
      "Name: HARGA, Length: 1001, dtype: float64\n"
     ]
    }
   ],
   "source": [
    "#split feature dan lable\n",
    "x = df.drop(['HARGA'], axis=1)\n",
    "y = df['HARGA']\n",
    "\n",
    "print(x)\n",
    "print(y)"
   ]
  },
  {
   "cell_type": "code",
   "execution_count": 158,
   "metadata": {},
   "outputs": [
    {
     "name": "stdout",
     "output_type": "stream",
     "text": [
      "       LT    LB  JKT  JKM  GRS\n",
      "177   477   520    4    3    1\n",
      "512  1470  2000    7    7    1\n",
      "455   806   700    4    4    1\n",
      "376   200   400    4    4    1\n",
      "202    78   185    4    4    0\n",
      "..    ...   ...  ...  ...  ...\n",
      "536   462   350    3    3    1\n",
      "586   164   150    4    4    1\n",
      "495   435   500    4    4    1\n",
      "529   389   450    7    4    1\n",
      "170   663   530    7    8    1\n",
      "\n",
      "[800 rows x 5 columns]\n",
      "39     14.00\n",
      "400    16.00\n",
      "386     9.00\n",
      "826     9.50\n",
      "813     5.30\n",
      "       ...  \n",
      "658     7.90\n",
      "979     3.25\n",
      "558    37.50\n",
      "827    14.50\n",
      "654     6.90\n",
      "Name: HARGA, Length: 201, dtype: float64\n"
     ]
    }
   ],
   "source": [
    "#split data menjadi training data dan testing data\n",
    "x_train, x_test, y_train, y_test = train_test_split(x, y, test_size = 0.2, random_state=2)\n",
    "\n",
    "print(x_train)\n",
    "print(y_test)\n",
    "\n",
    "\n",
    "#pembagian data menjadi set pelatihan dan pengujian akan sama setiap kode di jalankan\n",
    "#test size 0.2 berarti test datanya 20%"
   ]
  },
  {
   "cell_type": "markdown",
   "metadata": {},
   "source": [
    "## training data_train menggunakan model XGBRegressor"
   ]
  },
  {
   "cell_type": "code",
   "execution_count": 159,
   "metadata": {},
   "outputs": [],
   "source": [
    "# model training xgboost regressor\n",
    "\n",
    "#load model\n",
    "model = XGBRegressor()\n",
    "\n",
    "#training the model with x_train\n",
    "model.fit(x_train, y_train)\n",
    "\n",
    "#accuracy for prediction on training data\n",
    "training_data_prediction = model.predict(x_train)\n"
   ]
  },
  {
   "cell_type": "code",
   "execution_count": 160,
   "metadata": {},
   "outputs": [
    {
     "name": "stdout",
     "output_type": "stream",
     "text": [
      "[ 17.468586    56.054314    22.89443      7.9358497    3.362512\n",
      "  17.874311    18.390982    18.103266     2.1758986    5.7659135\n",
      "   7.45101      7.152392    38.398037    12.713751    19.543682\n",
      "  15.163834    21.948202    12.713751    11.908856    28.948011\n",
      "  16.783052     3.5723932    8.449343    16.835531    18.249546\n",
      "  95.080635    11.600906     6.0712347    3.2565658   12.15824\n",
      "   5.812495     5.04381      1.4419106    8.626579     5.313303\n",
      "  39.96017     22.272797     6.5407796   14.291966    17.832727\n",
      "   9.489257    38.202408     9.143236    35.247356     5.762112\n",
      "  17.90341      5.263362    21.697899    15.426278    16.515026\n",
      "  21.0701       9.506914    15.2997265   12.431794    21.905327\n",
      "  14.18404     38.185036     4.684193    21.119595     5.1533203\n",
      "  89.651405    24.71963     17.869814     6.0648103   10.877067\n",
      "  11.071405     6.902593    15.7731495   21.154797     9.341688\n",
      "  10.832391    15.089819    21.905327     0.6401717   28.015509\n",
      "  16.511774    12.7623      55.865143     8.374965    10.348102\n",
      "  11.975192     7.595795    17.34811      7.3663507   32.358185\n",
      "  17.863111     6.153697     1.0296975    9.480518    10.348102\n",
      "  15.241531    14.114668    21.877386     5.0559597   19.99638\n",
      "   7.566442     5.730429     7.7445455    4.770224     8.070476\n",
      "  19.84598      6.8152533   11.029665    11.680062    20.605871\n",
      "   6.005087    12.713751     5.256863    39.97133     16.598059\n",
      "   5.9295297   14.408539     8.21946      9.09928      5.986495\n",
      "   7.47259     14.251365     8.634414    23.916615     7.929789\n",
      "   7.129579    14.638156     6.7956204   16.917637     7.595795\n",
      "   6.5340557   14.114668    20.139656     9.5756      10.778444\n",
      "  21.153893    28.399485    40.76186      5.9301243    1.0296975\n",
      "   5.9234295   33.787678     9.7714815    6.2356024   19.501825\n",
      "  35.149178    27.1221      17.34811     32.08988     14.160345\n",
      "  12.8058605    7.0439734   38.968845    18.563908     8.755131\n",
      "  24.450317     9.685437    17.059172     4.365778     8.250479\n",
      "  16.118298    11.975192    23.11386     20.252167     8.160748\n",
      "  13.616394     5.9667354    9.8854685   11.077287    16.317282\n",
      "  14.243114    25.7662      27.569027     6.5189667   13.4892435\n",
      "   8.165356    21.905327    69.058945    11.159785    15.92395\n",
      "  34.44544      4.0914044    1.100729    24.204018    19.967552\n",
      "  10.234795     9.409775     8.23669      2.5029314   15.453228\n",
      "   9.765873     4.2082977    2.2828898   14.168568     4.803252\n",
      "  10.657947     2.814114    16.390722    22.354464     5.0401583\n",
      "   1.6121992    1.0296975    6.586015     8.538036     8.33157\n",
      "   9.395226    19.574272    25.042099    25.945894    21.905327\n",
      "   6.9933157   11.535473    13.747736    13.855177    15.800675\n",
      "  83.642166    10.381211    67.9396      17.949478     8.166876\n",
      "  12.704202     9.6389885   37.278835    59.990788    55.312862\n",
      "   8.008674    21.905327    17.582598    29.9266      16.61465\n",
      "   1.100729    26.658283     6.742013     8.966039    13.409431\n",
      "   6.8766427    6.7931814    5.37194     10.419186     7.280483\n",
      "  17.34811     23.822577    10.946183    18.054996    12.704202\n",
      "   1.8816377   25.416483    14.8178425   14.008211    22.06989\n",
      "  16.61465     15.619414     7.4392357    8.308317     3.5784833\n",
      "  18.349834    17.34811      8.55072     25.459827    17.075039\n",
      "  98.220314   168.8015       8.531612    20.276192    34.258335\n",
      "   3.7877293   22.670315    14.598369    19.805216     8.588642\n",
      "  17.412771     6.076125    15.208116     1.4419106   12.364307\n",
      "  13.133183    15.088124    15.105462     5.1924057    6.6171327\n",
      "  20.080824     5.5158424   19.335989    27.547903     5.9471045\n",
      "   2.1426234   25.33793      5.473136    41.266266    12.865246\n",
      "  21.697899     6.980836    42.373856    15.993021    38.13857\n",
      "   4.0332165   18.925539     5.9329734   19.722248    10.310799\n",
      "   4.803252    11.745949    39.608086     2.5996158   35.081676\n",
      "  13.260886    21.905327     8.299216    15.92395     17.34811\n",
      "  14.594808     6.207257    18.338053    22.56058     17.34811\n",
      "  39.608086    16.912563     5.9471045    7.2690353    5.2773504\n",
      "  30.943287     7.9358497    6.703137    54.812927     2.5993018\n",
      "   6.742013    13.495395     8.866471     4.6307015   13.54926\n",
      "   6.0712347    7.20282     24.13507     10.771615     5.5994086\n",
      "  10.368674    19.807343    23.925856     8.099627     6.7182984\n",
      "   4.4985723    2.814114    15.3291025    5.593284     4.801115\n",
      "  16.354918     3.2348518   54.393093    32.44876     12.865246\n",
      "  14.701086     7.205476     7.0321546    6.4579387   12.333939\n",
      "  27.089521     7.8234262   19.501825    75.77992     21.784008\n",
      " 185.03867     27.667639    12.740283     1.4190776   29.48404\n",
      "  32.75899     26.79786      3.5480022   14.015574    13.82423\n",
      "   9.330092     6.899365   166.79819     11.389933     4.5443916\n",
      "  19.749275     1.6081353    0.8633661   10.711618    11.188634\n",
      "  13.633622    12.110026    18.985907     6.4157314   19.55575\n",
      "   5.4847956   18.40303      1.7785562   27.814783    15.055937\n",
      "  25.386517    15.3291025   37.71319     15.938823    21.049467\n",
      "   6.4366474   15.317073    36.488342    15.113663    14.662708\n",
      "  13.804529     6.836365     9.859383     2.5993018   38.71426\n",
      "   4.2881117   12.79616      1.2384042   25.654585     7.031321\n",
      "   5.756139    10.8509       5.752378    18.349834    17.4569\n",
      "  16.797356     6.432511     5.5943584   15.664692    17.44719\n",
      "  10.946183     6.272055    19.276344     4.5748105    4.507063\n",
      "   2.2717085    6.3812237    1.100729    12.4842825    6.0309887\n",
      "   2.3913925    8.067034     2.7231681    4.1825767   25.316423\n",
      "  11.188634    11.535817     3.630226     9.967816    11.557142\n",
      "  43.00929     22.362625    56.28284     22.701237     8.888005\n",
      "  71.66317     66.08023      8.275778    10.946183     7.8120747\n",
      "  27.469482     7.739988    15.817731     1.8315082    4.3983936\n",
      "  35.685406    17.074793     6.419956    19.747728     1.2384042\n",
      "  14.792437     9.85314      5.730429    16.981638     5.5832257\n",
      "  14.199944     1.6917924   10.908576    10.036255     4.270438\n",
      "   2.5793068    5.5815415    2.382284     7.0671644    3.410151\n",
      "   1.0296975   17.956228     7.595795    57.115788     2.7735531\n",
      "   4.635018    11.91563     12.355883    39.408787     4.6539397\n",
      "  74.94601      7.490546     2.25619     14.789255    24.632687\n",
      "   9.769611    14.42471      9.535385    84.74694     16.202543\n",
      "  19.025717     8.891985    18.846352    25.59605      4.2881117\n",
      "   0.7256912    9.098278    22.4466      17.968628    21.590828\n",
      "  56.28284     19.778135    17.475378    83.642166    18.846352\n",
      "  16.316679    26.076017    11.065561    19.92001     16.141756\n",
      "  17.851274     5.2782764   34.609745    24.544497    27.993534\n",
      "  17.250221    23.520435    37.920116     9.913383     7.1363087\n",
      "  10.642283     9.343987    44.867622     6.0920253  175.43193\n",
      "   5.2773504   15.888656    31.024101    47.65337     11.353981\n",
      "  17.582598     7.3416753    3.5984542   11.535473     6.1292353\n",
      "  17.250221    19.967552     2.3772495   14.547117    15.484052\n",
      "  34.698483    10.131666    20.276192     1.1574825    7.8839955\n",
      "   7.662611     7.5268493    4.5101833   14.562234     2.220942\n",
      "   4.8290153    6.2419295   15.249031     4.0294003    5.0161123\n",
      "   2.749911    15.827576    26.791424    19.237339    19.501825\n",
      "  23.916615     4.1919737    7.6068172   15.082843    29.998808\n",
      "  12.019668    10.794512     6.4786124   17.995615     7.6725802\n",
      "   5.1230173   78.46763      8.578424     1.2384042  134.07408\n",
      "  10.032317    17.629272     1.1673723   17.60206      2.38477\n",
      "  47.191418    16.338573    37.682487    55.234188    14.455674\n",
      "   4.12617     22.732225     0.5103556    5.0972314   20.660458\n",
      "  29.647617    15.501965    18.215334     6.8409963   14.649615\n",
      "  25.75947     39.608086     8.2425375   15.069989     4.7244806\n",
      "  12.333939    31.535696     3.8015025    8.070476    12.387148\n",
      "   5.9780617   47.647804    37.808224    16.112614    27.085196\n",
      "   7.6068172    4.78099      5.1244884   16.048609     1.100729\n",
      "  22.023973     5.4957533   10.409498    11.786086     4.8013945\n",
      "  11.47127      4.6319447    7.2422533   41.641655    11.437359\n",
      "   3.2743628    5.2782764    4.646003    84.20195    119.82648\n",
      "  12.765864    40.257435    20.767792    15.618534    22.225016\n",
      "   8.299216    17.915186    16.537466    19.057556    35.941444\n",
      "   7.4413004   25.626879     5.454704    63.865223     4.6095486\n",
      "  14.164637     8.519151     8.996874     4.4186683   29.44928\n",
      "   0.7256912   18.117058     6.4194136    6.9012704   13.057597\n",
      "  12.364307    27.685843    22.545084     6.2564664    6.6989017\n",
      "   5.390701     5.2512016   11.607342    21.697899    18.754583\n",
      "   1.688425     3.0792067    5.762112     6.376848    10.66183\n",
      "   4.4952765   15.455493    22.661259     0.63416195   6.3935747\n",
      "   9.90665     16.11248     15.283604     7.4402246    5.784702\n",
      "  21.059536    14.361253    49.251617    15.692053    12.610501\n",
      "  20.063305    16.53551     13.406182     3.8871984   15.949881\n",
      "  15.559849    14.641745     8.557916    10.891791     6.283021\n",
      "  14.706105     2.91962      8.299866    11.850159   249.23067\n",
      "   1.4419106    9.087806    33.76364     29.191738    27.76616\n",
      " 164.8426      13.906938    27.276918    18.066021    20.629255\n",
      "   3.9186273    6.6102996   15.790053     5.496609    22.066326\n",
      "  19.180481    19.818554    11.722483     7.1849513    7.262137\n",
      "   8.154098     4.690516     5.9292083   14.243114    17.593018\n",
      "  10.032175    16.282492     4.5913334   33.713764    25.560406\n",
      "   6.106087     6.911887    24.628782    85.20831      4.2148123\n",
      "   7.5985107   27.678944    16.372183    19.20511     28.35791\n",
      "   9.967816    29.408142    17.081772     6.8023825   22.285192\n",
      "  24.275946    23.954998     6.172839     7.8174777   11.5691\n",
      "  56.28284     18.432796     6.7061505    7.7064204   67.9396\n",
      "  15.664692     4.507063    19.495413    16.797356    25.505556\n",
      "   6.0712347   25.819307    15.262299    21.775444     9.298298\n",
      "  56.153122    35.189236    13.3496      14.5936775    9.60115\n",
      "  36.500526    29.529352     5.806619    24.209583     7.640742\n",
      "  20.70563     10.085904     1.2384042    7.1208916   39.96017\n",
      "   8.562299     9.515718    10.234795   178.5307      13.726236\n",
      "  16.141201     5.8730216   19.972528    13.504458     6.196993\n",
      "  17.75208      8.185233     8.50023     20.161419    13.140493\n",
      "  10.926153     3.5808532   18.390982    16.629002    17.034147  ]\n"
     ]
    }
   ],
   "source": [
    "print(training_data_prediction)"
   ]
  },
  {
   "cell_type": "markdown",
   "metadata": {},
   "source": [
    "## hasil evaluasi dari model XGBRegressor"
   ]
  },
  {
   "cell_type": "code",
   "execution_count": 161,
   "metadata": {},
   "outputs": [
    {
     "name": "stdout",
     "output_type": "stream",
     "text": [
      "MAE: 0.6913657571357487\n",
      "MSE: 1.2178059830209438\n",
      "R-squared: 0.9975112333350129\n"
     ]
    }
   ],
   "source": [
    "\n",
    "print('MAE:', mean_absolute_error(y_train, training_data_prediction))\n",
    "print('MSE:', mean_squared_error(y_train, training_data_prediction))\n",
    "print('R-squared:', r2_score(y_train, training_data_prediction))"
   ]
  },
  {
   "cell_type": "code",
   "execution_count": 162,
   "metadata": {},
   "outputs": [
    {
     "data": {
      "image/png": "[encoded data removed]",
      "text/plain": [
       "<Figure size 640x480 with 1 Axes>"
      ]
     },
     "metadata": {},
     "output_type": "display_data"
    }
   ],
   "source": [
    "#memvisualisasi actual prices dengan predicted prices\n",
    "plt.scatter(y_train, training_data_prediction)\n",
    "plt.xlabel(\"Actual prices\")\n",
    "plt.ylabel(\"predicted prices\")\n",
    "plt.title(\"actual prices vs predicted price\")\n",
    "plt.show()"
   ]
  },
  {
   "cell_type": "markdown",
   "metadata": {},
   "source": [
    "# evaluasi performa model dengan data testing"
   ]
  },
  {
   "cell_type": "code",
   "execution_count": 163,
   "metadata": {},
   "outputs": [],
   "source": [
    "#prediction on test data\n",
    "test_data_prediction = model.predict(x_test)"
   ]
  },
  {
   "cell_type": "code",
   "execution_count": 164,
   "metadata": {},
   "outputs": [
    {
     "name": "stdout",
     "output_type": "stream",
     "text": [
      "MAE: 5.500986564361042\n",
      "MSE: 126.7312420191101\n",
      "R-squared: 0.37407099511169584\n"
     ]
    }
   ],
   "source": [
    "print('MAE:', mean_absolute_error(y_test, test_data_prediction))\n",
    "print('MSE:', mean_squared_error(y_test, test_data_prediction))\n",
    "print('R-squared:', r2_score(y_test, test_data_prediction))"
   ]
  },
  {
   "cell_type": "markdown",
   "metadata": {},
   "source": [
    "## memprediksi harga rumah dengan model dengan decision tree"
   ]
  },
  {
   "cell_type": "code",
   "execution_count": 165,
   "metadata": {},
   "outputs": [],
   "source": [
    "dt_model = DecisionTreeRegressor(random_state=42)\n",
    "dt_model.fit(x_train, y_train)\n",
    "dt_predictions = dt_model.predict(x_train)"
   ]
  },
  {
   "cell_type": "code",
   "execution_count": 166,
   "metadata": {},
   "outputs": [
    {
     "name": "stdout",
     "output_type": "stream",
     "text": [
      "Decision Tree:\n",
      "MAE: 0.029229166666666674\n",
      "MSE: 0.038374479166666677\n",
      "R-squared: 0.9999215760754441\n"
     ]
    }
   ],
   "source": [
    "print('Decision Tree:')\n",
    "print('MAE:', mean_absolute_error(y_train, dt_predictions))\n",
    "print('MSE:', mean_squared_error(y_train, dt_predictions))\n",
    "print('R-squared:', r2_score(y_train, dt_predictions))"
   ]
  },
  {
   "cell_type": "code",
   "execution_count": 167,
   "metadata": {},
   "outputs": [],
   "source": [
    "\n",
    "dt_predictions = dt_model.predict(x_test)"
   ]
  },
  {
   "cell_type": "code",
   "execution_count": 168,
   "metadata": {},
   "outputs": [
    {
     "name": "stdout",
     "output_type": "stream",
     "text": [
      "Decision Tree:\n",
      "MAE: 6.45762023217247\n",
      "MSE: 213.4010002902156\n",
      "R-squared: -0.0539932665828482\n"
     ]
    }
   ],
   "source": [
    "print('Decision Tree:')\n",
    "print('MAE:', mean_absolute_error(y_test, dt_predictions))\n",
    "print('MSE:', mean_squared_error(y_test, dt_predictions))\n",
    "print('R-squared:', r2_score(y_test, dt_predictions))"
   ]
  },
  {
   "cell_type": "code",
   "execution_count": null,
   "metadata": {},
   "outputs": [],
   "source": []
  }
 ],
 "metadata": {
  "kernelspec": {
   "display_name": "Python 3",
   "language": "python",
   "name": "python3"
  },
  "language_info": {
   "codemirror_mode": {
    "name": "ipython",
    "version": 3
   },
   "file_extension": ".py",
   "mimetype": "text/x-python",
   "name": "python",
   "nbconvert_exporter": "python",
   "pygments_lexer": "ipython3",
   "version": "3.12.3"
  }
 },
 "nbformat": 4,
 "nbformat_minor": 2
}
