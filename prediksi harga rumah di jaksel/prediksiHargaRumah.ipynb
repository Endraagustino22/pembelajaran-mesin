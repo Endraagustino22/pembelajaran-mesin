{
 "cells": [
  {
   "cell_type": "markdown",
   "metadata": {},
   "source": [
    "# import library"
   ]
  },
  {
   "cell_type": "code",
   "execution_count": 56,
   "metadata": {},
   "outputs": [],
   "source": [
    "import numpy as np\n",
    "import pandas as pd\n",
    "import matplotlib.pyplot as plt\n",
    "import seaborn as sns\n",
    "import sklearn.datasets\n",
    "from sklearn.model_selection import train_test_split\n",
    "from xgboost import XGBRegressor \n",
    "from sklearn.tree import DecisionTreeRegressor\n",
    "from sklearn.metrics import mean_absolute_error, mean_squared_error, r2_score\n",
    "from sklearn import metrics\n",
    "from sklearn.model_selection import RandomizedSearchCV\n",
    "from scipy.stats import randint, uniform, loguniform\n",
    "from sklearn.compose import ColumnTransformer\n",
    "from sklearn.preprocessing import StandardScaler\n",
    "from sklearn.pipeline import Pipeline"
   ]
  },
  {
   "cell_type": "markdown",
   "metadata": {},
   "source": [
    "# import dataset"
   ]
  },
  {
   "cell_type": "code",
   "execution_count": 57,
   "metadata": {},
   "outputs": [],
   "source": [
    "df = pd.read_excel('hargaRumahJaksel.xlsx', header=None)"
   ]
  },
  {
   "cell_type": "markdown",
   "metadata": {},
   "source": [
    "# pre proccessing data"
   ]
  },
  {
   "cell_type": "code",
   "execution_count": 58,
   "metadata": {},
   "outputs": [
    {
     "data": {
      "text/html": [
       "<div>\n",
       "<style scoped>\n",
       "    .dataframe tbody tr th:only-of-type {\n",
       "        vertical-align: middle;\n",
       "    }\n",
       "\n",
       "    .dataframe tbody tr th {\n",
       "        vertical-align: top;\n",
       "    }\n",
       "\n",
       "    .dataframe thead th {\n",
       "        text-align: right;\n",
       "    }\n",
       "</style>\n",
       "<table border=\"1\" class=\"dataframe\">\n",
       "  <thead>\n",
       "    <tr style=\"text-align: right;\">\n",
       "      <th></th>\n",
       "      <th>0</th>\n",
       "      <th>1</th>\n",
       "      <th>2</th>\n",
       "      <th>3</th>\n",
       "      <th>4</th>\n",
       "      <th>5</th>\n",
       "      <th>6</th>\n",
       "    </tr>\n",
       "  </thead>\n",
       "  <tbody>\n",
       "    <tr>\n",
       "      <th>0</th>\n",
       "      <td>NaN</td>\n",
       "      <td>NaN</td>\n",
       "      <td>NaN</td>\n",
       "      <td>NaN</td>\n",
       "      <td>NaN</td>\n",
       "      <td>NaN</td>\n",
       "      <td>NaN</td>\n",
       "    </tr>\n",
       "    <tr>\n",
       "      <th>1</th>\n",
       "      <td>HARGA</td>\n",
       "      <td>LT</td>\n",
       "      <td>LB</td>\n",
       "      <td>JKT</td>\n",
       "      <td>JKM</td>\n",
       "      <td>GRS</td>\n",
       "      <td>KOTA</td>\n",
       "    </tr>\n",
       "    <tr>\n",
       "      <th>2</th>\n",
       "      <td>28000000000</td>\n",
       "      <td>1100</td>\n",
       "      <td>700</td>\n",
       "      <td>5</td>\n",
       "      <td>6</td>\n",
       "      <td>ADA</td>\n",
       "      <td>JAKSEL</td>\n",
       "    </tr>\n",
       "    <tr>\n",
       "      <th>3</th>\n",
       "      <td>19000000000</td>\n",
       "      <td>824</td>\n",
       "      <td>800</td>\n",
       "      <td>4</td>\n",
       "      <td>4</td>\n",
       "      <td>ADA</td>\n",
       "      <td>JAKSEL</td>\n",
       "    </tr>\n",
       "    <tr>\n",
       "      <th>4</th>\n",
       "      <td>4700000000</td>\n",
       "      <td>500</td>\n",
       "      <td>400</td>\n",
       "      <td>4</td>\n",
       "      <td>3</td>\n",
       "      <td>ADA</td>\n",
       "      <td>JAKSEL</td>\n",
       "    </tr>\n",
       "  </tbody>\n",
       "</table>\n",
       "</div>"
      ],
      "text/plain": [
       "             0     1    2    3    4    5       6\n",
       "0          NaN   NaN  NaN  NaN  NaN  NaN     NaN\n",
       "1        HARGA    LT   LB  JKT  JKM  GRS    KOTA\n",
       "2  28000000000  1100  700    5    6  ADA  JAKSEL\n",
       "3  19000000000   824  800    4    4  ADA  JAKSEL\n",
       "4   4700000000   500  400    4    3  ADA  JAKSEL"
      ]
     },
     "execution_count": 58,
     "metadata": {},
     "output_type": "execute_result"
    }
   ],
   "source": [
    "#menampilkan 5 baris awal tabel\n",
    "df.head()"
   ]
  },
  {
   "cell_type": "code",
   "execution_count": 59,
   "metadata": {},
   "outputs": [
    {
     "data": {
      "text/html": [
       "<div>\n",
       "<style scoped>\n",
       "    .dataframe tbody tr th:only-of-type {\n",
       "        vertical-align: middle;\n",
       "    }\n",
       "\n",
       "    .dataframe tbody tr th {\n",
       "        vertical-align: top;\n",
       "    }\n",
       "\n",
       "    .dataframe thead th {\n",
       "        text-align: right;\n",
       "    }\n",
       "</style>\n",
       "<table border=\"1\" class=\"dataframe\">\n",
       "  <thead>\n",
       "    <tr style=\"text-align: right;\">\n",
       "      <th></th>\n",
       "      <th>HARGA</th>\n",
       "      <th>LT</th>\n",
       "      <th>LB</th>\n",
       "      <th>JKT</th>\n",
       "      <th>JKM</th>\n",
       "      <th>GRS</th>\n",
       "      <th>KOTA</th>\n",
       "    </tr>\n",
       "  </thead>\n",
       "  <tbody>\n",
       "    <tr>\n",
       "      <th>0</th>\n",
       "      <td>NaN</td>\n",
       "      <td>NaN</td>\n",
       "      <td>NaN</td>\n",
       "      <td>NaN</td>\n",
       "      <td>NaN</td>\n",
       "      <td>NaN</td>\n",
       "      <td>NaN</td>\n",
       "    </tr>\n",
       "    <tr>\n",
       "      <th>1</th>\n",
       "      <td>HARGA</td>\n",
       "      <td>LT</td>\n",
       "      <td>LB</td>\n",
       "      <td>JKT</td>\n",
       "      <td>JKM</td>\n",
       "      <td>GRS</td>\n",
       "      <td>KOTA</td>\n",
       "    </tr>\n",
       "    <tr>\n",
       "      <th>2</th>\n",
       "      <td>28000000000</td>\n",
       "      <td>1100</td>\n",
       "      <td>700</td>\n",
       "      <td>5</td>\n",
       "      <td>6</td>\n",
       "      <td>ADA</td>\n",
       "      <td>JAKSEL</td>\n",
       "    </tr>\n",
       "    <tr>\n",
       "      <th>3</th>\n",
       "      <td>19000000000</td>\n",
       "      <td>824</td>\n",
       "      <td>800</td>\n",
       "      <td>4</td>\n",
       "      <td>4</td>\n",
       "      <td>ADA</td>\n",
       "      <td>JAKSEL</td>\n",
       "    </tr>\n",
       "    <tr>\n",
       "      <th>4</th>\n",
       "      <td>4700000000</td>\n",
       "      <td>500</td>\n",
       "      <td>400</td>\n",
       "      <td>4</td>\n",
       "      <td>3</td>\n",
       "      <td>ADA</td>\n",
       "      <td>JAKSEL</td>\n",
       "    </tr>\n",
       "  </tbody>\n",
       "</table>\n",
       "</div>"
      ],
      "text/plain": [
       "         HARGA    LT   LB  JKT  JKM  GRS    KOTA\n",
       "0          NaN   NaN  NaN  NaN  NaN  NaN     NaN\n",
       "1        HARGA    LT   LB  JKT  JKM  GRS    KOTA\n",
       "2  28000000000  1100  700    5    6  ADA  JAKSEL\n",
       "3  19000000000   824  800    4    4  ADA  JAKSEL\n",
       "4   4700000000   500  400    4    3  ADA  JAKSEL"
      ]
     },
     "execution_count": 59,
     "metadata": {},
     "output_type": "execute_result"
    }
   ],
   "source": [
    "#membuat nama kolom\n",
    "df.columns = ['HARGA', 'LT', 'LB', 'JKT', 'JKM', 'GRS', 'KOTA']\n",
    "df.head()"
   ]
  },
  {
   "cell_type": "code",
   "execution_count": 60,
   "metadata": {},
   "outputs": [
    {
     "data": {
      "text/html": [
       "<div>\n",
       "<style scoped>\n",
       "    .dataframe tbody tr th:only-of-type {\n",
       "        vertical-align: middle;\n",
       "    }\n",
       "\n",
       "    .dataframe tbody tr th {\n",
       "        vertical-align: top;\n",
       "    }\n",
       "\n",
       "    .dataframe thead th {\n",
       "        text-align: right;\n",
       "    }\n",
       "</style>\n",
       "<table border=\"1\" class=\"dataframe\">\n",
       "  <thead>\n",
       "    <tr style=\"text-align: right;\">\n",
       "      <th></th>\n",
       "      <th>HARGA</th>\n",
       "      <th>LT</th>\n",
       "      <th>LB</th>\n",
       "      <th>JKT</th>\n",
       "      <th>JKM</th>\n",
       "      <th>GRS</th>\n",
       "      <th>KOTA</th>\n",
       "    </tr>\n",
       "  </thead>\n",
       "  <tbody>\n",
       "    <tr>\n",
       "      <th>2</th>\n",
       "      <td>28000000000</td>\n",
       "      <td>1100</td>\n",
       "      <td>700</td>\n",
       "      <td>5</td>\n",
       "      <td>6</td>\n",
       "      <td>ADA</td>\n",
       "      <td>JAKSEL</td>\n",
       "    </tr>\n",
       "    <tr>\n",
       "      <th>3</th>\n",
       "      <td>19000000000</td>\n",
       "      <td>824</td>\n",
       "      <td>800</td>\n",
       "      <td>4</td>\n",
       "      <td>4</td>\n",
       "      <td>ADA</td>\n",
       "      <td>JAKSEL</td>\n",
       "    </tr>\n",
       "    <tr>\n",
       "      <th>4</th>\n",
       "      <td>4700000000</td>\n",
       "      <td>500</td>\n",
       "      <td>400</td>\n",
       "      <td>4</td>\n",
       "      <td>3</td>\n",
       "      <td>ADA</td>\n",
       "      <td>JAKSEL</td>\n",
       "    </tr>\n",
       "    <tr>\n",
       "      <th>5</th>\n",
       "      <td>4900000000</td>\n",
       "      <td>251</td>\n",
       "      <td>300</td>\n",
       "      <td>5</td>\n",
       "      <td>4</td>\n",
       "      <td>ADA</td>\n",
       "      <td>JAKSEL</td>\n",
       "    </tr>\n",
       "    <tr>\n",
       "      <th>6</th>\n",
       "      <td>28000000000</td>\n",
       "      <td>1340</td>\n",
       "      <td>575</td>\n",
       "      <td>4</td>\n",
       "      <td>5</td>\n",
       "      <td>ADA</td>\n",
       "      <td>JAKSEL</td>\n",
       "    </tr>\n",
       "  </tbody>\n",
       "</table>\n",
       "</div>"
      ],
      "text/plain": [
       "         HARGA    LT   LB JKT JKM  GRS    KOTA\n",
       "2  28000000000  1100  700   5   6  ADA  JAKSEL\n",
       "3  19000000000   824  800   4   4  ADA  JAKSEL\n",
       "4   4700000000   500  400   4   3  ADA  JAKSEL\n",
       "5   4900000000   251  300   5   4  ADA  JAKSEL\n",
       "6  28000000000  1340  575   4   5  ADA  JAKSEL"
      ]
     },
     "execution_count": 60,
     "metadata": {},
     "output_type": "execute_result"
    }
   ],
   "source": [
    "#hapus baris 1 dan 2 karena tidak bernilai\n",
    "df = df.drop([0,1])\n",
    "df.head()"
   ]
  },
  {
   "cell_type": "code",
   "execution_count": 61,
   "metadata": {},
   "outputs": [
    {
     "data": {
      "text/html": [
       "<div>\n",
       "<style scoped>\n",
       "    .dataframe tbody tr th:only-of-type {\n",
       "        vertical-align: middle;\n",
       "    }\n",
       "\n",
       "    .dataframe tbody tr th {\n",
       "        vertical-align: top;\n",
       "    }\n",
       "\n",
       "    .dataframe thead th {\n",
       "        text-align: right;\n",
       "    }\n",
       "</style>\n",
       "<table border=\"1\" class=\"dataframe\">\n",
       "  <thead>\n",
       "    <tr style=\"text-align: right;\">\n",
       "      <th></th>\n",
       "      <th>HARGA</th>\n",
       "      <th>LT</th>\n",
       "      <th>LB</th>\n",
       "      <th>JKT</th>\n",
       "      <th>JKM</th>\n",
       "      <th>GRS</th>\n",
       "      <th>KOTA</th>\n",
       "    </tr>\n",
       "  </thead>\n",
       "  <tbody>\n",
       "    <tr>\n",
       "      <th>2</th>\n",
       "      <td>28.0</td>\n",
       "      <td>1100</td>\n",
       "      <td>700</td>\n",
       "      <td>5</td>\n",
       "      <td>6</td>\n",
       "      <td>ADA</td>\n",
       "      <td>JAKSEL</td>\n",
       "    </tr>\n",
       "    <tr>\n",
       "      <th>3</th>\n",
       "      <td>19.0</td>\n",
       "      <td>824</td>\n",
       "      <td>800</td>\n",
       "      <td>4</td>\n",
       "      <td>4</td>\n",
       "      <td>ADA</td>\n",
       "      <td>JAKSEL</td>\n",
       "    </tr>\n",
       "    <tr>\n",
       "      <th>4</th>\n",
       "      <td>4.7</td>\n",
       "      <td>500</td>\n",
       "      <td>400</td>\n",
       "      <td>4</td>\n",
       "      <td>3</td>\n",
       "      <td>ADA</td>\n",
       "      <td>JAKSEL</td>\n",
       "    </tr>\n",
       "    <tr>\n",
       "      <th>5</th>\n",
       "      <td>4.9</td>\n",
       "      <td>251</td>\n",
       "      <td>300</td>\n",
       "      <td>5</td>\n",
       "      <td>4</td>\n",
       "      <td>ADA</td>\n",
       "      <td>JAKSEL</td>\n",
       "    </tr>\n",
       "    <tr>\n",
       "      <th>6</th>\n",
       "      <td>28.0</td>\n",
       "      <td>1340</td>\n",
       "      <td>575</td>\n",
       "      <td>4</td>\n",
       "      <td>5</td>\n",
       "      <td>ADA</td>\n",
       "      <td>JAKSEL</td>\n",
       "    </tr>\n",
       "  </tbody>\n",
       "</table>\n",
       "</div>"
      ],
      "text/plain": [
       "  HARGA    LT   LB JKT JKM  GRS    KOTA\n",
       "2  28.0  1100  700   5   6  ADA  JAKSEL\n",
       "3  19.0   824  800   4   4  ADA  JAKSEL\n",
       "4   4.7   500  400   4   3  ADA  JAKSEL\n",
       "5   4.9   251  300   5   4  ADA  JAKSEL\n",
       "6  28.0  1340  575   4   5  ADA  JAKSEL"
      ]
     },
     "execution_count": 61,
     "metadata": {},
     "output_type": "execute_result"
    }
   ],
   "source": [
    "#menyederhanakan harga rumah\n",
    "df[\"HARGA\"] = df[\"HARGA\"] / 1000000000\n",
    "df.head()"
   ]
  },
  {
   "cell_type": "code",
   "execution_count": 62,
   "metadata": {},
   "outputs": [
    {
     "data": {
      "text/plain": [
       "HARGA    0\n",
       "LT       0\n",
       "LB       0\n",
       "JKT      0\n",
       "JKM      0\n",
       "GRS      0\n",
       "KOTA     0\n",
       "dtype: int64"
      ]
     },
     "execution_count": 62,
     "metadata": {},
     "output_type": "execute_result"
    }
   ],
   "source": [
    "#mengecek apakah ada missing data\n",
    "df.isnull().sum()"
   ]
  },
  {
   "cell_type": "code",
   "execution_count": 63,
   "metadata": {},
   "outputs": [
    {
     "name": "stderr",
     "output_type": "stream",
     "text": [
      "C:\\Users\\ASUS\\AppData\\Local\\Temp\\ipykernel_210860\\3378427142.py:2: FutureWarning: Downcasting behavior in `replace` is deprecated and will be removed in a future version. To retain the old behavior, explicitly call `result.infer_objects(copy=False)`. To opt-in to the future behavior, set `pd.set_option('future.no_silent_downcasting', True)`\n",
      "  df[\"GRS\"] = df[\"GRS\"].replace({\"ADA\" : 1, \"TIDAK ADA\" : 0})\n"
     ]
    }
   ],
   "source": [
    "#mengubah attribute garasi yang semula bernilai \"ADA\" menjadi 1, dan \"TIDAK ADA\" menjadi 0\n",
    "df[\"GRS\"] = df[\"GRS\"].replace({\"ADA\" : 1, \"TIDAK ADA\" : 0})"
   ]
  },
  {
   "cell_type": "code",
   "execution_count": 64,
   "metadata": {},
   "outputs": [
    {
     "name": "stdout",
     "output_type": "stream",
     "text": [
      "HARGA    float64\n",
      "LT         int64\n",
      "LB         int64\n",
      "JKT        int64\n",
      "JKM        int64\n",
      "GRS        int64\n",
      "KOTA      object\n",
      "dtype: object\n"
     ]
    }
   ],
   "source": [
    "#mengubah tipe data menjadi numeric, yang semulanya bertipe data objek\n",
    "kolom_numerik = ['HARGA', 'LT', 'LB', 'JKT', 'JKM']\n",
    "df[kolom_numerik] = df[kolom_numerik].apply(pd.to_numeric, errors='coerce')\n",
    "\n",
    "\n",
    "print(df.dtypes)"
   ]
  },
  {
   "cell_type": "code",
   "execution_count": 65,
   "metadata": {},
   "outputs": [
    {
     "data": {
      "text/html": [
       "<div>\n",
       "<style scoped>\n",
       "    .dataframe tbody tr th:only-of-type {\n",
       "        vertical-align: middle;\n",
       "    }\n",
       "\n",
       "    .dataframe tbody tr th {\n",
       "        vertical-align: top;\n",
       "    }\n",
       "\n",
       "    .dataframe thead th {\n",
       "        text-align: right;\n",
       "    }\n",
       "</style>\n",
       "<table border=\"1\" class=\"dataframe\">\n",
       "  <thead>\n",
       "    <tr style=\"text-align: right;\">\n",
       "      <th></th>\n",
       "      <th>HARGA</th>\n",
       "      <th>LT</th>\n",
       "      <th>LB</th>\n",
       "      <th>JKT</th>\n",
       "      <th>JKM</th>\n",
       "      <th>GRS</th>\n",
       "    </tr>\n",
       "  </thead>\n",
       "  <tbody>\n",
       "    <tr>\n",
       "      <th>2</th>\n",
       "      <td>28.0</td>\n",
       "      <td>1100</td>\n",
       "      <td>700</td>\n",
       "      <td>5</td>\n",
       "      <td>6</td>\n",
       "      <td>1</td>\n",
       "    </tr>\n",
       "    <tr>\n",
       "      <th>3</th>\n",
       "      <td>19.0</td>\n",
       "      <td>824</td>\n",
       "      <td>800</td>\n",
       "      <td>4</td>\n",
       "      <td>4</td>\n",
       "      <td>1</td>\n",
       "    </tr>\n",
       "    <tr>\n",
       "      <th>4</th>\n",
       "      <td>4.7</td>\n",
       "      <td>500</td>\n",
       "      <td>400</td>\n",
       "      <td>4</td>\n",
       "      <td>3</td>\n",
       "      <td>1</td>\n",
       "    </tr>\n",
       "    <tr>\n",
       "      <th>5</th>\n",
       "      <td>4.9</td>\n",
       "      <td>251</td>\n",
       "      <td>300</td>\n",
       "      <td>5</td>\n",
       "      <td>4</td>\n",
       "      <td>1</td>\n",
       "    </tr>\n",
       "    <tr>\n",
       "      <th>6</th>\n",
       "      <td>28.0</td>\n",
       "      <td>1340</td>\n",
       "      <td>575</td>\n",
       "      <td>4</td>\n",
       "      <td>5</td>\n",
       "      <td>1</td>\n",
       "    </tr>\n",
       "  </tbody>\n",
       "</table>\n",
       "</div>"
      ],
      "text/plain": [
       "   HARGA    LT   LB  JKT  JKM  GRS\n",
       "2   28.0  1100  700    5    6    1\n",
       "3   19.0   824  800    4    4    1\n",
       "4    4.7   500  400    4    3    1\n",
       "5    4.9   251  300    5    4    1\n",
       "6   28.0  1340  575    4    5    1"
      ]
     },
     "execution_count": 65,
     "metadata": {},
     "output_type": "execute_result"
    }
   ],
   "source": [
    "# menghilangkan feature yang tidak relevan / tidak penting\n",
    "\n",
    "#hapus kolom jaksel karena semua nilainya sama\n",
    "df = df.drop(columns=[\"KOTA\"])\n",
    "df.head()"
   ]
  },
  {
   "cell_type": "markdown",
   "metadata": {},
   "source": [
    "# penjelasan data"
   ]
  },
  {
   "cell_type": "code",
   "execution_count": 66,
   "metadata": {},
   "outputs": [
    {
     "data": {
      "text/plain": [
       "(1001, 6)"
      ]
     },
     "execution_count": 66,
     "metadata": {},
     "output_type": "execute_result"
    }
   ],
   "source": [
    "# menampilkan jumlah baris dan kolom\n",
    "df.shape"
   ]
  },
  {
   "cell_type": "code",
   "execution_count": 67,
   "metadata": {},
   "outputs": [
    {
     "data": {
      "text/html": [
       "<div>\n",
       "<style scoped>\n",
       "    .dataframe tbody tr th:only-of-type {\n",
       "        vertical-align: middle;\n",
       "    }\n",
       "\n",
       "    .dataframe tbody tr th {\n",
       "        vertical-align: top;\n",
       "    }\n",
       "\n",
       "    .dataframe thead th {\n",
       "        text-align: right;\n",
       "    }\n",
       "</style>\n",
       "<table border=\"1\" class=\"dataframe\">\n",
       "  <thead>\n",
       "    <tr style=\"text-align: right;\">\n",
       "      <th></th>\n",
       "      <th>HARGA</th>\n",
       "      <th>LT</th>\n",
       "      <th>LB</th>\n",
       "      <th>JKT</th>\n",
       "      <th>JKM</th>\n",
       "      <th>GRS</th>\n",
       "    </tr>\n",
       "  </thead>\n",
       "  <tbody>\n",
       "    <tr>\n",
       "      <th>count</th>\n",
       "      <td>1001.000000</td>\n",
       "      <td>1001.000000</td>\n",
       "      <td>1001.000000</td>\n",
       "      <td>1001.000000</td>\n",
       "      <td>1001.000000</td>\n",
       "      <td>1001.000000</td>\n",
       "    </tr>\n",
       "    <tr>\n",
       "      <th>mean</th>\n",
       "      <td>17.474719</td>\n",
       "      <td>530.504496</td>\n",
       "      <td>487.275724</td>\n",
       "      <td>4.457542</td>\n",
       "      <td>3.940060</td>\n",
       "      <td>0.778222</td>\n",
       "    </tr>\n",
       "    <tr>\n",
       "      <th>std</th>\n",
       "      <td>20.795482</td>\n",
       "      <td>531.069773</td>\n",
       "      <td>452.872262</td>\n",
       "      <td>2.004606</td>\n",
       "      <td>1.903261</td>\n",
       "      <td>0.415650</td>\n",
       "    </tr>\n",
       "    <tr>\n",
       "      <th>min</th>\n",
       "      <td>0.430000</td>\n",
       "      <td>22.000000</td>\n",
       "      <td>38.000000</td>\n",
       "      <td>1.000000</td>\n",
       "      <td>1.000000</td>\n",
       "      <td>0.000000</td>\n",
       "    </tr>\n",
       "    <tr>\n",
       "      <th>25%</th>\n",
       "      <td>6.750000</td>\n",
       "      <td>220.000000</td>\n",
       "      <td>300.000000</td>\n",
       "      <td>4.000000</td>\n",
       "      <td>3.000000</td>\n",
       "      <td>1.000000</td>\n",
       "    </tr>\n",
       "    <tr>\n",
       "      <th>50%</th>\n",
       "      <td>13.500000</td>\n",
       "      <td>400.000000</td>\n",
       "      <td>411.000000</td>\n",
       "      <td>4.000000</td>\n",
       "      <td>4.000000</td>\n",
       "      <td>1.000000</td>\n",
       "    </tr>\n",
       "    <tr>\n",
       "      <th>75%</th>\n",
       "      <td>20.000000</td>\n",
       "      <td>677.000000</td>\n",
       "      <td>600.000000</td>\n",
       "      <td>5.000000</td>\n",
       "      <td>4.000000</td>\n",
       "      <td>1.000000</td>\n",
       "    </tr>\n",
       "    <tr>\n",
       "      <th>max</th>\n",
       "      <td>250.000000</td>\n",
       "      <td>6790.000000</td>\n",
       "      <td>10000.000000</td>\n",
       "      <td>27.000000</td>\n",
       "      <td>27.000000</td>\n",
       "      <td>1.000000</td>\n",
       "    </tr>\n",
       "  </tbody>\n",
       "</table>\n",
       "</div>"
      ],
      "text/plain": [
       "             HARGA           LT            LB          JKT          JKM  \\\n",
       "count  1001.000000  1001.000000   1001.000000  1001.000000  1001.000000   \n",
       "mean     17.474719   530.504496    487.275724     4.457542     3.940060   \n",
       "std      20.795482   531.069773    452.872262     2.004606     1.903261   \n",
       "min       0.430000    22.000000     38.000000     1.000000     1.000000   \n",
       "25%       6.750000   220.000000    300.000000     4.000000     3.000000   \n",
       "50%      13.500000   400.000000    411.000000     4.000000     4.000000   \n",
       "75%      20.000000   677.000000    600.000000     5.000000     4.000000   \n",
       "max     250.000000  6790.000000  10000.000000    27.000000    27.000000   \n",
       "\n",
       "               GRS  \n",
       "count  1001.000000  \n",
       "mean      0.778222  \n",
       "std       0.415650  \n",
       "min       0.000000  \n",
       "25%       1.000000  \n",
       "50%       1.000000  \n",
       "75%       1.000000  \n",
       "max       1.000000  "
      ]
     },
     "execution_count": 67,
     "metadata": {},
     "output_type": "execute_result"
    }
   ],
   "source": [
    "#rangkuman statistik deskrptif dari dataframe\n",
    "df.describe()"
   ]
  },
  {
   "cell_type": "code",
   "execution_count": 68,
   "metadata": {},
   "outputs": [
    {
     "name": "stdout",
     "output_type": "stream",
     "text": [
      "Outliers for HARGA:\n",
      "     HARGA    LT    LB  JKT  JKM  GRS\n",
      "24    40.0  1500   700    4    4    1\n",
      "33    68.0   470  1000    5    5    1\n",
      "35    85.0   770   500    4    4    1\n",
      "73    55.0  1487  1200    6    4    1\n",
      "115   55.0  1500  1200    7    6    1\n",
      "..     ...   ...   ...  ...  ...  ...\n",
      "962   42.0   630   500    5    4    1\n",
      "965  169.0  2122  1024   10    5    0\n",
      "978   77.5  1148  1200    8    6    1\n",
      "990   85.0  1180  1200    5    6    1\n",
      "991   65.0   472  1200    5    5    1\n",
      "\n",
      "[65 rows x 6 columns]\n",
      "\n",
      "Outliers for LT:\n",
      "      HARGA    LT     LB  JKT  JKM  GRS\n",
      "24    40.00  1500    700    4    4    1\n",
      "73    55.00  1487   1200    6    4    1\n",
      "84    15.00  2010    800    4    3    1\n",
      "115   55.00  1500   1200    7    6    1\n",
      "118   55.00  1497   1200    5    5    1\n",
      "126   40.00  1500    700    4    4    1\n",
      "129   55.00  1500   1200    6    6    1\n",
      "152   55.00  1500   1000    5    6    1\n",
      "161   24.30  1944   1944    5    4    1\n",
      "225   55.00  1475   1200    5    6    1\n",
      "230   60.00  1500   1200    6    6    1\n",
      "235   47.00  1375   1400    5    5    1\n",
      "240   55.00  1500   1200    6    6    1\n",
      "270   18.00  1900    650    6    6    1\n",
      "305   85.50  1500   1300    5    5    1\n",
      "309   38.00  1390    750    6    4    0\n",
      "312   39.50  1960    900    5    4    1\n",
      "335   33.00  1750    700    6    6    1\n",
      "341   38.00  2880   1000    7    6    1\n",
      "356  185.00  6790  10000    5    5    1\n",
      "366   22.00  1860    400    4    4    1\n",
      "370   39.00  1900   1000    6    5    0\n",
      "387  250.00  6000   1500    5    5    1\n",
      "418   42.00  2131   1600    5    5    1\n",
      "427   55.00  2641   1000    4    3    1\n",
      "443   68.00  2595   1000    5    5    1\n",
      "462   35.00  2000    800    4    4    0\n",
      "478   38.50  1420    550    8    5    1\n",
      "491   75.00  1830   1000    5    4    1\n",
      "509   45.00  1466    900    9    9    1\n",
      "510   60.00  2360    542    6    8    1\n",
      "512   56.00  1470   2000    7    7    1\n",
      "514   60.00  2630    542    6    8    0\n",
      "518  175.23  4574   4271    4    4    1\n",
      "592   40.00  1752    712    3    4    0\n",
      "650   30.00  1500    600    7    7    1\n",
      "788   35.50  1500   1000    6    6    1\n",
      "830  168.00  1770   1000    5    5    1\n",
      "833  180.00  1442   1000    6    5    1\n",
      "835   35.00  2600    700    5    5    1\n",
      "840  165.00  2122   1500    6    6    1\n",
      "864   75.00  3000   2000    4    4    1\n",
      "905   30.00  3000    500    4    4    1\n",
      "908   55.00  4035   1500    6    6    0\n",
      "949   95.00  3300    600    5    4    0\n",
      "965  169.00  2122   1024   10    5    0\n",
      "967   27.00  1752    712    3    2    1\n",
      "\n",
      "Outliers for LB:\n",
      "      HARGA    LT     LB  JKT  JKM  GRS\n",
      "40    39.00   973   1100    4    3    1\n",
      "73    55.00  1487   1200    6    4    1\n",
      "115   55.00  1500   1200    7    6    1\n",
      "118   55.00  1497   1200    5    5    1\n",
      "129   55.00  1500   1200    6    6    1\n",
      "161   24.30  1944   1944    5    4    1\n",
      "225   55.00  1475   1200    5    6    1\n",
      "230   60.00  1500   1200    6    6    1\n",
      "235   47.00  1375   1400    5    5    1\n",
      "238   32.00   973   1100    5    5    1\n",
      "240   55.00  1500   1200    6    6    1\n",
      "305   85.50  1500   1300    5    5    1\n",
      "346   16.00   445   1200    6    6    1\n",
      "356  185.00  6790  10000    5    5    1\n",
      "387  250.00  6000   1500    5    5    1\n",
      "417   39.00   973   1100    4    4    1\n",
      "418   42.00  2131   1600    5    5    1\n",
      "512   56.00  1470   2000    7    7    1\n",
      "517   40.00   973   1100    4    4    1\n",
      "518  175.23  4574   4271    4    4    1\n",
      "558   37.50   680   1250    6    5    1\n",
      "563   22.00   900   1800    4    3    1\n",
      "640   24.00   450   1320    5    3    0\n",
      "696   26.00  1083   1200    6    6    1\n",
      "719   40.00   973   1100    4    4    1\n",
      "745   39.00   973   1100    4    4    1\n",
      "761   85.00  1175   1700    5    6    1\n",
      "801   80.00   800   2000    7    6    1\n",
      "804   57.00   550   1200    5    5    1\n",
      "834   90.00  1066   5000    8    6    1\n",
      "837   75.00  1050   1500    5    5    1\n",
      "840  165.00  2122   1500    6    6    1\n",
      "851  110.00  1050   2500    8    5    1\n",
      "864   75.00  3000   2000    4    4    1\n",
      "897   45.00   483   1100    5    5    1\n",
      "908   55.00  4035   1500    6    6    0\n",
      "941   25.00   700   1200    5    7    1\n",
      "978   77.50  1148   1200    8    6    1\n",
      "990   85.00  1180   1200    5    6    1\n",
      "991   65.00   472   1200    5    5    1\n",
      "\n",
      "Outliers for JKT:\n",
      "      HARGA    LT    LB  JKT  JKM  GRS\n",
      "11     0.48    66    42    2    1    0\n",
      "13     4.20   109   188    2    3    1\n",
      "75    29.00  1186   800    9    8    1\n",
      "79     4.50   109   188    2    3    1\n",
      "93    29.00  1186   600    8    9    0\n",
      "..      ...   ...   ...  ...  ...  ...\n",
      "954   15.00   291   400    7    6    1\n",
      "965  169.00  2122  1024   10    5    0\n",
      "977   20.00   292   800   27   27    0\n",
      "978   77.50  1148  1200    8    6    1\n",
      "984    6.75   200   180    2    2    0\n",
      "\n",
      "[82 rows x 6 columns]\n",
      "\n",
      "Outliers for JKM:\n",
      "     HARGA    LT    LB  JKT  JKM  GRS\n",
      "2    28.00  1100   700    5    6    1\n",
      "11    0.48    66    42    2    1    0\n",
      "12   10.70   449   500    6    7    1\n",
      "16   20.00   462   645    5    6    1\n",
      "75   29.00  1186   800    9    8    1\n",
      "..     ...   ...   ...  ...  ...  ...\n",
      "974   6.90   450   600    5    6    1\n",
      "977  20.00   292   800   27   27    0\n",
      "978  77.50  1148  1200    8    6    1\n",
      "990  85.00  1180  1200    5    6    1\n",
      "992  21.00   321   800    5    6    1\n",
      "\n",
      "[98 rows x 6 columns]\n",
      "\n",
      "Outliers for GRS:\n",
      "      HARGA   LT   LB  JKT  JKM  GRS\n",
      "10     0.67   70   69    3    2    0\n",
      "11     0.48   66   42    2    1    0\n",
      "31     9.30  235  270    3    3    0\n",
      "68    19.00  358  600    4    5    0\n",
      "82     4.50  138  250    5    4    0\n",
      "...     ...  ...  ...  ...  ...  ...\n",
      "986    1.45   76  130    3    3    0\n",
      "994    1.53   78  107    3    3    0\n",
      "1000  29.00  692  400    4    3    0\n",
      "1001   1.70  102  140    4    3    0\n",
      "1002   1.25   63  110    3    3    0\n",
      "\n",
      "[222 rows x 6 columns]\n",
      "\n"
     ]
    }
   ],
   "source": [
    "def detect_outliers_iqr(df, column):\n",
    "    Q1 = df[column].quantile(0.25)\n",
    "    Q3 = df[column].quantile(0.75)\n",
    "    IQR = Q3 - Q1\n",
    "    lower_bound = Q1 - 1.5 * IQR\n",
    "    upper_bound = Q3 + 1.5 * IQR\n",
    "    return df[(df[column] < lower_bound) | (df[column] > upper_bound)]\n",
    "\n",
    "# Mendeteksi outlier untuk setiap kolom numerik\n",
    "outliers = {}\n",
    "for column in df.select_dtypes(include=[np.number]).columns:\n",
    "    outliers[column] = detect_outliers_iqr(df, column)\n",
    "\n",
    "# Menampilkan hasil outlier\n",
    "for column, outlier_df in outliers.items():\n",
    "    print(f\"Outliers for {column}:\")\n",
    "    print(outlier_df)\n",
    "    print()"
   ]
  },
  {
   "cell_type": "code",
   "execution_count": 69,
   "metadata": {
    "scrolled": true
   },
   "outputs": [
    {
     "data": {
      "text/plain": [
       "<Axes: >"
      ]
     },
     "execution_count": 69,
     "metadata": {},
     "output_type": "execute_result"
    },
    {
     "data": {
      "image/png": "[encoded data removed]",
      "text/plain": [
       "<Figure size 500x500 with 2 Axes>"
      ]
     },
     "metadata": {},
     "output_type": "display_data"
    }
   ],
   "source": [
    "#memahami korelasi antar feature data set menggunakan heatmap\n",
    "\n",
    "correlation = df.corr()\n",
    "plt.figure(figsize=(5,5))\n",
    "sns.heatmap(correlation, cbar=True, square=True, fmt='.1f', annot=True, annot_kws={'size':4}, cmap='Blues')"
   ]
  },
  {
   "cell_type": "markdown",
   "metadata": {},
   "source": [
    "##### luas tanah dan luas bangunan yang paling berkorelasi dengan harga"
   ]
  },
  {
   "cell_type": "markdown",
   "metadata": {},
   "source": [
    "# split data"
   ]
  },
  {
   "cell_type": "code",
   "execution_count": 70,
   "metadata": {},
   "outputs": [
    {
     "name": "stdout",
     "output_type": "stream",
     "text": [
      "        LT   LB  JKT  JKM  GRS\n",
      "2     1100  700    5    6    1\n",
      "3      824  800    4    4    1\n",
      "4      500  400    4    3    1\n",
      "5      251  300    5    4    1\n",
      "6     1340  575    4    5    1\n",
      "...    ...  ...  ...  ...  ...\n",
      "998    488  550    6    5    1\n",
      "999    209  270    4    4    1\n",
      "1000   692  400    4    3    0\n",
      "1001   102  140    4    3    0\n",
      "1002    63  110    3    3    0\n",
      "\n",
      "[1001 rows x 5 columns]\n",
      "2       28.00\n",
      "3       19.00\n",
      "4        4.70\n",
      "5        4.90\n",
      "6       28.00\n",
      "        ...  \n",
      "998     16.00\n",
      "999      4.50\n",
      "1000    29.00\n",
      "1001     1.70\n",
      "1002     1.25\n",
      "Name: HARGA, Length: 1001, dtype: float64\n"
     ]
    }
   ],
   "source": [
    "#split feature dan lable\n",
    "x = df.drop(['HARGA'], axis=1)\n",
    "y = df['HARGA']\n",
    "\n",
    "print(x)\n",
    "print(y)"
   ]
  },
  {
   "cell_type": "code",
   "execution_count": 71,
   "metadata": {},
   "outputs": [
    {
     "data": {
      "text/plain": [
       "((800, 5), (800,), (201, 5), (201,))"
      ]
     },
     "execution_count": 71,
     "metadata": {},
     "output_type": "execute_result"
    }
   ],
   "source": [
    "#split data menjadi training data dan testing data\n",
    "x_train, x_test, y_train, y_test = train_test_split(x, y, test_size = 0.2, random_state=2)\n",
    "\n",
    "x_train.shape, y_train.shape, x_test.shape, y_test.shape\n",
    "\n",
    "\n",
    "#pembagian data menjadi set pelatihan dan pengujian akan sama setiap kode di jalankan\n",
    "#test size 0.2 berarti test datanya 20%\n"
   ]
  },
  {
   "cell_type": "markdown",
   "metadata": {},
   "source": [
    "## training data_train menggunakan model XGBRegressor"
   ]
  },
  {
   "cell_type": "code",
   "execution_count": 72,
   "metadata": {},
   "outputs": [
    {
     "name": "stdout",
     "output_type": "stream",
     "text": [
      "0.9975112333350129 0.37407099511169584\n"
     ]
    }
   ],
   "source": [
    "#load model\n",
    "model = XGBRegressor()\n",
    "\n",
    "#training model dengan x_train\n",
    "model.fit(x_train, y_train)\n",
    "\n",
    "train_score = model.score(x_train, y_train)\n",
    "test_score = model.score(x_test, y_test)\n",
    "print(train_score, test_score)"
   ]
  },
  {
   "cell_type": "markdown",
   "metadata": {},
   "source": [
    "### *hasilnya overfitting"
   ]
  },
  {
   "cell_type": "markdown",
   "metadata": {},
   "source": [
    "# membuat columntrasformer, pipeline dan mengatur hyperparameter agar tidak overfitting"
   ]
  },
  {
   "cell_type": "code",
   "execution_count": 73,
   "metadata": {},
   "outputs": [],
   "source": [
    "# Definisikan transformer untuk setiap jenis kolom\n",
    "preprocessor = ColumnTransformer(\n",
    "    transformers=[\n",
    "        ('num', StandardScaler(), ['LT','LB', 'JKT', 'JKM', 'GRS'])    ]\n",
    ")"
   ]
  },
  {
   "cell_type": "code",
   "execution_count": 74,
   "metadata": {},
   "outputs": [],
   "source": [
    "pipeline = Pipeline([\n",
    "    ('preprocessor', preprocessor),\n",
    "    ('algo', XGBRegressor(n_jobs=-1, random_state=42))\n",
    "])"
   ]
  },
  {
   "cell_type": "code",
   "execution_count": 75,
   "metadata": {},
   "outputs": [],
   "source": [
    "param_dist = {\n",
    "    'algo__max_depth': [3, 4, 5, 6, 7, 8, 9, 10],                 # Kedalaman maksimum pohon\n",
    "    'algo__learning_rate': [0.01, 0.1, 0.2, 0.3],                 # Laju pembelajaran\n",
    "    'algo__n_estimators': [100, 150, 200, 250, 300],              # Jumlah estimator (pohon)\n",
    "    'algo__subsample': [0.6, 0.7, 0.8, 0.9],                      # Fraksi data yang digunakan untuk pelatihan\n",
    "    'algo__gamma': [0, 1, 5, 10],                                 # Regularisasi loss function\n",
    "    'algo__colsample_bytree': [0.6, 0.7, 0.8, 0.9],               # Fraksi kolom yang dipilih secara acak\n",
    "    'algo__reg_alpha': [0, 0.1, 1, 10],                           # Regularisasi L1\n",
    "    'algo__reg_lambda': [0, 0.1, 1, 10]                           # Regularisasi L2\n",
    "}\n"
   ]
  },
  {
   "cell_type": "code",
   "execution_count": 76,
   "metadata": {},
   "outputs": [
    {
     "name": "stdout",
     "output_type": "stream",
     "text": [
      "Fitting 3 folds for each of 50 candidates, totalling 150 fits\n",
      "{'algo__subsample': 0.8, 'algo__reg_lambda': 0, 'algo__reg_alpha': 0, 'algo__n_estimators': 200, 'algo__max_depth': 3, 'algo__learning_rate': 0.01, 'algo__gamma': 0, 'algo__colsample_bytree': 0.7}\n"
     ]
    }
   ],
   "source": [
    "model = RandomizedSearchCV(pipeline, param_dist, cv=3, n_iter=50, n_jobs=-1, verbose=1, random_state=42)\n",
    "model.fit(x_train, y_train)\n",
    "\n",
    "print(model.best_params_)"
   ]
  },
  {
   "cell_type": "markdown",
   "metadata": {},
   "source": [
    "# evaluasi hasil"
   ]
  },
  {
   "cell_type": "code",
   "execution_count": 77,
   "metadata": {},
   "outputs": [
    {
     "name": "stdout",
     "output_type": "stream",
     "text": [
      "train score (r-squared-score)= 0.7315719538442023\n",
      "test score (r-squred-score)= 0.6402377268428613\n",
      "RMSE: 8.53467752861412\n",
      "MSE = 72.84072051743081\n",
      "MAE = 5.045983975064103\n"
     ]
    }
   ],
   "source": [
    "print(\"train score (r-squared-score)= \" + str(model.score(x_train, y_train)) + \"\\ntest score (r-squred-score)= \" + str(model.score(x_test, y_test)))\n",
    "\n",
    "# Prediksi\n",
    "y_pred = model.predict(x_test)\n",
    "\n",
    "# Hitung skor\n",
    "mse = mean_squared_error(y_test, y_pred)\n",
    "mae = mean_absolute_error(y_test, y_pred)\n",
    "rmse = np.sqrt(mse)\n",
    "print(f\"RMSE: {rmse}\")\n",
    "print(\"MSE = \" + str(mse))\n",
    "print(\"MAE = \" + str(mae))"
   ]
  },
  {
   "cell_type": "code",
   "execution_count": null,
   "metadata": {},
   "outputs": [],
   "source": []
  },
  {
   "cell_type": "markdown",
   "metadata": {},
   "source": [
    "# mencoba membandingkan xgbregressor dengan decision tree biasa (*tambahan)"
   ]
  },
  {
   "cell_type": "markdown",
   "metadata": {},
   "source": [
    "## memprediksi harga rumah dengan model dengan decision tree"
   ]
  },
  {
   "cell_type": "code",
   "execution_count": 78,
   "metadata": {},
   "outputs": [],
   "source": [
    "dt_model = DecisionTreeRegressor(random_state=42)\n",
    "dt_model.fit(x_train, y_train)\n",
    "dt_predictions = dt_model.predict(x_train)"
   ]
  },
  {
   "cell_type": "code",
   "execution_count": 79,
   "metadata": {},
   "outputs": [
    {
     "name": "stdout",
     "output_type": "stream",
     "text": [
      "Decision Tree:\n",
      "MAE: 0.029229166666666674\n",
      "MSE: 0.038374479166666677\n",
      "R-squared: 0.9999215760754441\n"
     ]
    }
   ],
   "source": [
    "print('Decision Tree:')\n",
    "print('MAE:', mean_absolute_error(y_train, dt_predictions))\n",
    "print('MSE:', mean_squared_error(y_train, dt_predictions))\n",
    "print('R-squared:', r2_score(y_train, dt_predictions))"
   ]
  },
  {
   "cell_type": "code",
   "execution_count": 80,
   "metadata": {},
   "outputs": [],
   "source": [
    "\n",
    "dt_predictions = dt_model.predict(x_test)"
   ]
  },
  {
   "cell_type": "code",
   "execution_count": 81,
   "metadata": {},
   "outputs": [
    {
     "name": "stdout",
     "output_type": "stream",
     "text": [
      "Decision Tree:\n",
      "MAE: 6.45762023217247\n",
      "MSE: 213.4010002902156\n",
      "R-squared: -0.0539932665828482\n"
     ]
    }
   ],
   "source": [
    "print('Decision Tree:')\n",
    "print('MAE:', mean_absolute_error(y_test, dt_predictions))\n",
    "print('MSE:', mean_squared_error(y_test, dt_predictions))\n",
    "print('R-squared:', r2_score(y_test, dt_predictions))"
   ]
  }
 ],
 "metadata": {
  "kernelspec": {
   "display_name": "Python 3 (ipykernel)",
   "language": "python",
   "name": "python3"
  },
  "language_info": {
   "codemirror_mode": {
    "name": "ipython",
    "version": 3
   },
   "file_extension": ".py",
   "mimetype": "text/x-python",
   "name": "python",
   "nbconvert_exporter": "python",
   "pygments_lexer": "ipython3",
   "version": "3.12.3"
  }
 },
 "nbformat": 4,
 "nbformat_minor": 2
}
